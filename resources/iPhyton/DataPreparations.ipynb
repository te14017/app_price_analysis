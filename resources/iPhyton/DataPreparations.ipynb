{
 "cells": [
  {
   "cell_type": "code",
   "execution_count": 1,
   "metadata": {
    "collapsed": true
   },
   "outputs": [],
   "source": [
    "import pandas as pd\n",
    "import numpy as np\n",
    "import seaborn as sns\n",
    "import matplotlib.pyplot as plt\n",
    "%matplotlib inline\n",
    "\n",
    "from sklearn.model_selection import train_test_split\n",
    "from sklearn.preprocessing import label_binarize\n",
    "\n",
    "def price_quartiles_transform(y_train, y_test=None):\n",
    "    # calculate the quartiles on y_train\n",
    "    # appyl to both y_train and y_test\n",
    "\n",
    "    def update(y, q25_, q50_, q75_, q100_):\n",
    "        q100_idx = y.loc[y <= q100_].index\n",
    "        q75_idx = y.loc[y <= q75_].index\n",
    "        q50_idx = y.loc[y <= q50_].index\n",
    "        q25_idx = y.loc[y <= q25_].index\n",
    "\n",
    "        # y.loc[q100_idx] = 'high'\n",
    "        # y.loc[q75_idx] = 'mid_high'\n",
    "        # y.loc[q50_idx] = 'mid_low'\n",
    "        # y.loc[q25_idx] = 'low'\n",
    "        y.loc[q100_idx] = 1\n",
    "        y.loc[q75_idx] = 0.75\n",
    "        y.loc[q50_idx] = 0.5\n",
    "        y.loc[q25_idx] = 0.25\n",
    "\n",
    "    q25 = np.percentile(y_train, 25)\n",
    "    q50 = np.percentile(y_train, 50)\n",
    "    q75 = np.percentile(y_train, 75)\n",
    "    q100 = np.percentile(y_train, 100)\n",
    "\n",
    "    update(y_train, q25, q50, q75, q100)\n",
    "    print(\"\\ny_train value counts:\")\n",
    "    print(y_train.value_counts())\n",
    "\n",
    "\n",
    "    if y_test != None:\n",
    "        update(y_test, q25, q50, q75, q100)\n",
    "        print(\"\\ny_test value counts:\")\n",
    "        print(y_test.value_counts())\n",
    "\n",
    "    \n",
    "\n"
   ]
  },
  {
   "cell_type": "code",
   "execution_count": 2,
   "metadata": {},
   "outputs": [
    {
     "name": "stdout",
     "output_type": "stream",
     "text": [
      "\n",
      "y_train value counts:\n",
      "0.50    7022\n",
      "0.25    6787\n",
      "1.00    6181\n",
      "0.75    4778\n",
      "Name: price, dtype: int64\n"
     ]
    }
   ],
   "source": [
    "data = pd.read_csv('data_transformed.csv')\n",
    "X_all, y_all = data.drop('price', axis=1).copy(), data['price'].copy()\n",
    "\n",
    "price_quartiles_transform(y_all)\n",
    "\n",
    "X_all['price'] = y_all"
   ]
  },
  {
   "cell_type": "code",
   "execution_count": 3,
   "metadata": {},
   "outputs": [
    {
     "data": {
      "text/html": [
       "<div>\n",
       "<table border=\"1\" class=\"dataframe\">\n",
       "  <thead>\n",
       "    <tr style=\"text-align: right;\">\n",
       "      <th></th>\n",
       "      <th>contentRating</th>\n",
       "      <th>price</th>\n",
       "    </tr>\n",
       "  </thead>\n",
       "  <tbody>\n",
       "    <tr>\n",
       "      <th>1</th>\n",
       "      <td>Everyone 10+</td>\n",
       "      <td>0.666748</td>\n",
       "    </tr>\n",
       "    <tr>\n",
       "      <th>2</th>\n",
       "      <td>Mature 17+</td>\n",
       "      <td>0.623457</td>\n",
       "    </tr>\n",
       "    <tr>\n",
       "      <th>3</th>\n",
       "      <td>Teen</td>\n",
       "      <td>0.614332</td>\n",
       "    </tr>\n",
       "    <tr>\n",
       "      <th>0</th>\n",
       "      <td>Everyone</td>\n",
       "      <td>0.600509</td>\n",
       "    </tr>\n",
       "    <tr>\n",
       "      <th>4</th>\n",
       "      <td>Unrated</td>\n",
       "      <td>0.525862</td>\n",
       "    </tr>\n",
       "  </tbody>\n",
       "</table>\n",
       "</div>"
      ],
      "text/plain": [
       "  contentRating     price\n",
       "1  Everyone 10+  0.666748\n",
       "2    Mature 17+  0.623457\n",
       "3          Teen  0.614332\n",
       "0      Everyone  0.600509\n",
       "4       Unrated  0.525862"
      ]
     },
     "execution_count": 3,
     "metadata": {},
     "output_type": "execute_result"
    }
   ],
   "source": [
    "# titanic - Analyze by pivoting features\n",
    "X_all[[\"contentRating\", \"price\"]].groupby(['contentRating'], as_index=False).mean().sort_values(by='price', ascending=False)"
   ]
  },
  {
   "cell_type": "code",
   "execution_count": 4,
   "metadata": {},
   "outputs": [
    {
     "data": {
      "text/plain": [
       "<seaborn.axisgrid.FacetGrid at 0x1031f2780>"
      ]
     },
     "execution_count": 4,
     "metadata": {},
     "output_type": "execute_result"
    },
    {
     "data": {
      "image/png": "[encoded data removed]",
      "text/plain": [
       "<matplotlib.figure.Figure at 0x1031f2940>"
      ]
     },
     "metadata": {},
     "output_type": "display_data"
    }
   ],
   "source": [
    "# Analyze by visualizing data\n",
    "\n",
    "\n",
    "g = sns.FacetGrid(X_all, col='price')\n",
    "g.map(plt.hist, 'starRating', bins=20)"
   ]
  },
  {
   "cell_type": "code",
   "execution_count": null,
   "metadata": {
    "collapsed": true
   },
   "outputs": [],
   "source": []
  },
  {
   "cell_type": "code",
   "execution_count": 5,
   "metadata": {},
   "outputs": [
    {
     "data": {
      "text/plain": [
       "100 - 500            6136\n",
       "1,000 - 5,000        5850\n",
       "500 - 1,000          2844\n",
       "10,000 - 50,000      2745\n",
       "5,000 - 10,000       1943\n",
       "10 - 50              1901\n",
       "50 - 100             1686\n",
       "50,000 - 100,000      609\n",
       "100,000 - 500,000     527\n",
       "1 - 5                 209\n",
       "5 - 10                195\n",
       "500,000+              123\n",
       "Name: installs, dtype: int64"
      ]
     },
     "execution_count": 5,
     "metadata": {},
     "output_type": "execute_result"
    }
   ],
   "source": [
    "data.installs.isnull()\n",
    "\n",
    "data.installs.describe()\n",
    "\n",
    "data.loc[data['installs'].isnull(),:]\n",
    "\n",
    "data['installs'].describe().loc['top']\n",
    "\n",
    "data.installs.unique()\n",
    "\n",
    "data.installs.describe()\n",
    "\n",
    "data.installs.value_counts()"
   ]
  }
 ],
 "metadata": {
  "kernelspec": {
   "display_name": "Python 3",
   "language": "python",
   "name": "python3"
  },
  "language_info": {
   "codemirror_mode": {
    "name": "ipython",
    "version": 3
   },
   "file_extension": ".py",
   "mimetype": "text/x-python",
   "name": "python",
   "nbconvert_exporter": "python",
   "pygments_lexer": "ipython3",
   "version": "3.6.1"
  }
 },
 "nbformat": 4,
 "nbformat_minor": 2
}
